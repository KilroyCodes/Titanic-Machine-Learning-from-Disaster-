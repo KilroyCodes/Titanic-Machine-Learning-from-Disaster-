{
 "cells": [
  {
   "cell_type": "code",
   "execution_count": 1,
   "id": "257b64bc",
   "metadata": {
    "_cell_guid": "b1076dfc-b9ad-4769-8c92-a6c4dae69d19",
    "_uuid": "8f2839f25d086af736a60e9eeb907d3b93b6e0e5",
    "execution": {
     "iopub.execute_input": "2025-05-16T15:18:36.517616Z",
     "iopub.status.busy": "2025-05-16T15:18:36.517211Z",
     "iopub.status.idle": "2025-05-16T15:18:42.191577Z",
     "shell.execute_reply": "2025-05-16T15:18:42.189601Z"
    },
    "papermill": {
     "duration": 5.681231,
     "end_time": "2025-05-16T15:18:42.194199",
     "exception": false,
     "start_time": "2025-05-16T15:18:36.512968",
     "status": "completed"
    },
    "tags": []
   },
   "outputs": [
    {
     "name": "stdout",
     "output_type": "stream",
     "text": [
      "/kaggle/input/titanic/train.csv\n",
      "/kaggle/input/titanic/test.csv\n",
      "/kaggle/input/titanic/gender_submission.csv\n",
      "Setup complete\n"
     ]
    }
   ],
   "source": [
    "import numpy as np # linear algebra\n",
    "import pandas as pd # data processing, CSV file I/O (e.g. pd.read_csv)\n",
    "\n",
    "from sklearn.model_selection import train_test_split\n",
    "from sklearn.metrics import mean_absolute_error\n",
    "from sklearn.ensemble import RandomForestRegressor\n",
    "\n",
    "import os\n",
    "for dirname, _, filenames in os.walk('/kaggle/input'):\n",
    "    for filename in filenames:\n",
    "        print(os.path.join(dirname, filename))\n",
    "\n",
    "print(\"Setup complete\")"
   ]
  },
  {
   "cell_type": "code",
   "execution_count": 2,
   "id": "d2a15d90",
   "metadata": {
    "execution": {
     "iopub.execute_input": "2025-05-16T15:18:42.201495Z",
     "iopub.status.busy": "2025-05-16T15:18:42.200735Z",
     "iopub.status.idle": "2025-05-16T15:18:42.281015Z",
     "shell.execute_reply": "2025-05-16T15:18:42.279802Z"
    },
    "papermill": {
     "duration": 0.086626,
     "end_time": "2025-05-16T15:18:42.283707",
     "exception": false,
     "start_time": "2025-05-16T15:18:42.197081",
     "status": "completed"
    },
    "tags": []
   },
   "outputs": [
    {
     "data": {
      "text/html": [
       "<div>\n",
       "<style scoped>\n",
       "    .dataframe tbody tr th:only-of-type {\n",
       "        vertical-align: middle;\n",
       "    }\n",
       "\n",
       "    .dataframe tbody tr th {\n",
       "        vertical-align: top;\n",
       "    }\n",
       "\n",
       "    .dataframe thead th {\n",
       "        text-align: right;\n",
       "    }\n",
       "</style>\n",
       "<table border=\"1\" class=\"dataframe\">\n",
       "  <thead>\n",
       "    <tr style=\"text-align: right;\">\n",
       "      <th></th>\n",
       "      <th>PassengerId</th>\n",
       "      <th>Survived</th>\n",
       "      <th>Pclass</th>\n",
       "      <th>Name</th>\n",
       "      <th>Sex</th>\n",
       "      <th>Age</th>\n",
       "      <th>SibSp</th>\n",
       "      <th>Parch</th>\n",
       "      <th>Ticket</th>\n",
       "      <th>Fare</th>\n",
       "      <th>Cabin</th>\n",
       "      <th>Embarked</th>\n",
       "    </tr>\n",
       "  </thead>\n",
       "  <tbody>\n",
       "    <tr>\n",
       "      <th>0</th>\n",
       "      <td>1</td>\n",
       "      <td>0</td>\n",
       "      <td>3</td>\n",
       "      <td>Braund, Mr. Owen Harris</td>\n",
       "      <td>male</td>\n",
       "      <td>22.0</td>\n",
       "      <td>1</td>\n",
       "      <td>0</td>\n",
       "      <td>A/5 21171</td>\n",
       "      <td>7.2500</td>\n",
       "      <td>NaN</td>\n",
       "      <td>S</td>\n",
       "    </tr>\n",
       "    <tr>\n",
       "      <th>1</th>\n",
       "      <td>2</td>\n",
       "      <td>1</td>\n",
       "      <td>1</td>\n",
       "      <td>Cumings, Mrs. John Bradley (Florence Briggs Th...</td>\n",
       "      <td>female</td>\n",
       "      <td>38.0</td>\n",
       "      <td>1</td>\n",
       "      <td>0</td>\n",
       "      <td>PC 17599</td>\n",
       "      <td>71.2833</td>\n",
       "      <td>C85</td>\n",
       "      <td>C</td>\n",
       "    </tr>\n",
       "    <tr>\n",
       "      <th>2</th>\n",
       "      <td>3</td>\n",
       "      <td>1</td>\n",
       "      <td>3</td>\n",
       "      <td>Heikkinen, Miss. Laina</td>\n",
       "      <td>female</td>\n",
       "      <td>26.0</td>\n",
       "      <td>0</td>\n",
       "      <td>0</td>\n",
       "      <td>STON/O2. 3101282</td>\n",
       "      <td>7.9250</td>\n",
       "      <td>NaN</td>\n",
       "      <td>S</td>\n",
       "    </tr>\n",
       "    <tr>\n",
       "      <th>3</th>\n",
       "      <td>4</td>\n",
       "      <td>1</td>\n",
       "      <td>1</td>\n",
       "      <td>Futrelle, Mrs. Jacques Heath (Lily May Peel)</td>\n",
       "      <td>female</td>\n",
       "      <td>35.0</td>\n",
       "      <td>1</td>\n",
       "      <td>0</td>\n",
       "      <td>113803</td>\n",
       "      <td>53.1000</td>\n",
       "      <td>C123</td>\n",
       "      <td>S</td>\n",
       "    </tr>\n",
       "    <tr>\n",
       "      <th>4</th>\n",
       "      <td>5</td>\n",
       "      <td>0</td>\n",
       "      <td>3</td>\n",
       "      <td>Allen, Mr. William Henry</td>\n",
       "      <td>male</td>\n",
       "      <td>35.0</td>\n",
       "      <td>0</td>\n",
       "      <td>0</td>\n",
       "      <td>373450</td>\n",
       "      <td>8.0500</td>\n",
       "      <td>NaN</td>\n",
       "      <td>S</td>\n",
       "    </tr>\n",
       "  </tbody>\n",
       "</table>\n",
       "</div>"
      ],
      "text/plain": [
       "   PassengerId  Survived  Pclass  \\\n",
       "0            1         0       3   \n",
       "1            2         1       1   \n",
       "2            3         1       3   \n",
       "3            4         1       1   \n",
       "4            5         0       3   \n",
       "\n",
       "                                                Name     Sex   Age  SibSp  \\\n",
       "0                            Braund, Mr. Owen Harris    male  22.0      1   \n",
       "1  Cumings, Mrs. John Bradley (Florence Briggs Th...  female  38.0      1   \n",
       "2                             Heikkinen, Miss. Laina  female  26.0      0   \n",
       "3       Futrelle, Mrs. Jacques Heath (Lily May Peel)  female  35.0      1   \n",
       "4                           Allen, Mr. William Henry    male  35.0      0   \n",
       "\n",
       "   Parch            Ticket     Fare Cabin Embarked  \n",
       "0      0         A/5 21171   7.2500   NaN        S  \n",
       "1      0          PC 17599  71.2833   C85        C  \n",
       "2      0  STON/O2. 3101282   7.9250   NaN        S  \n",
       "3      0            113803  53.1000  C123        S  \n",
       "4      0            373450   8.0500   NaN        S  "
      ]
     },
     "execution_count": 2,
     "metadata": {},
     "output_type": "execute_result"
    }
   ],
   "source": [
    "train_data = pd.read_csv(\"/kaggle/input/titanic/train.csv\")\n",
    "test_data = pd.read_csv(\"/kaggle/input/titanic/test.csv\")\n",
    "\n",
    "train_data.head()"
   ]
  },
  {
   "cell_type": "code",
   "execution_count": 3,
   "id": "ca5b0791",
   "metadata": {
    "execution": {
     "iopub.execute_input": "2025-05-16T15:18:42.292266Z",
     "iopub.status.busy": "2025-05-16T15:18:42.291901Z",
     "iopub.status.idle": "2025-05-16T15:18:42.457586Z",
     "shell.execute_reply": "2025-05-16T15:18:42.455626Z"
    },
    "papermill": {
     "duration": 0.17264,
     "end_time": "2025-05-16T15:18:42.459883",
     "exception": false,
     "start_time": "2025-05-16T15:18:42.287243",
     "status": "completed"
    },
    "tags": []
   },
   "outputs": [],
   "source": [
    "from sklearn.model_selection import train_test_split\n",
    "\n",
    "# drop rows missing Survived predictor data\n",
    "train_data.dropna(axis = 0, subset=['Survived'], inplace = True)\n",
    "\n",
    "# split predictor from features in train data\n",
    "# test data already excludes predictor\n",
    "y_train_full = train_data.Survived\n",
    "X_train_full = train_data.drop(['Survived'], axis = 1)\n",
    "\n",
    "# split train test data\n",
    "X_train, X_valid, y_train, y_valid = train_test_split(X_train_full, y_train_full, \n",
    "                                                        train_size = 0.8, test_size = 0.2, random_state = 0)\n",
    "\n",
    "# Select low cardinality cols as categorical cols and numeric cols, concat both\n",
    "categorical_cols = [cname for cname in X_train_full.columns \n",
    "                        if X_train_full[cname].nunique() < 10 and X_train_full[cname].dtypes == 'object']\n",
    "\n",
    "numeric_cols = [cname for cname in X_train_full.columns if X_train_full[cname].dtypes in ['int64','float64']]\n",
    "\n",
    "my_cols = categorical_cols + numeric_cols"
   ]
  },
  {
   "cell_type": "code",
   "execution_count": 4,
   "id": "ad3e9a96",
   "metadata": {
    "execution": {
     "iopub.execute_input": "2025-05-16T15:18:42.468088Z",
     "iopub.status.busy": "2025-05-16T15:18:42.467563Z",
     "iopub.status.idle": "2025-05-16T15:18:42.522041Z",
     "shell.execute_reply": "2025-05-16T15:18:42.520368Z"
    },
    "papermill": {
     "duration": 0.062092,
     "end_time": "2025-05-16T15:18:42.524938",
     "exception": false,
     "start_time": "2025-05-16T15:18:42.462846",
     "status": "completed"
    },
    "tags": []
   },
   "outputs": [],
   "source": [
    "# Pipeline building\n",
    "from sklearn.impute import SimpleImputer\n",
    "from sklearn.compose import ColumnTransformer\n",
    "from sklearn.preprocessing import OneHotEncoder\n",
    "from sklearn.pipeline import Pipeline\n",
    "\n",
    "# preprocessing pipeline\n",
    "numerical_transformer = SimpleImputer(strategy = 'mean')\n",
    "categorical_transformer = Pipeline(steps = [('imputer', SimpleImputer(strategy = 'most_frequent')),\n",
    "                                            ('onehot', OneHotEncoder(handle_unknown = 'ignore'))])\n",
    "\n",
    "preprocessing_pipeline = ColumnTransformer(transformers =\n",
    "                                           [('numerical', numerical_transformer, numeric_cols),\n",
    "                                            ('categorical', categorical_transformer, categorical_cols)])"
   ]
  },
  {
   "cell_type": "code",
   "execution_count": 5,
   "id": "9131ef88",
   "metadata": {
    "execution": {
     "iopub.execute_input": "2025-05-16T15:18:42.533335Z",
     "iopub.status.busy": "2025-05-16T15:18:42.532969Z",
     "iopub.status.idle": "2025-05-16T15:18:43.847853Z",
     "shell.execute_reply": "2025-05-16T15:18:43.845954Z"
    },
    "papermill": {
     "duration": 1.321605,
     "end_time": "2025-05-16T15:18:43.850209",
     "exception": false,
     "start_time": "2025-05-16T15:18:42.528604",
     "status": "completed"
    },
    "tags": []
   },
   "outputs": [
    {
     "name": "stdout",
     "output_type": "stream",
     "text": [
      "0.22488391689332488\n"
     ]
    }
   ],
   "source": [
    "from xgboost import XGBRegressor\n",
    "from sklearn.metrics import mean_absolute_error as mae\n",
    "\n",
    "# Apply XGBoost model\n",
    "model = XGBRegressor(random_state = 0, n_estimators = 500, learning_rate = 0.03)\n",
    "\n",
    "# model pipeline\n",
    "model_pipeline = Pipeline(steps = [('preprocessing', preprocessing_pipeline),\n",
    "                                  ('model', model)])\n",
    "\n",
    "# model fitting & predicting\n",
    "model_pipeline.fit(X_train, y_train)\n",
    "pred = model_pipeline.predict(X_valid)\n",
    "\n",
    "# mean absolute error\n",
    "MAE = mae(pred, y_valid)\n",
    "\n",
    "print(MAE)"
   ]
  },
  {
   "cell_type": "code",
   "execution_count": 6,
   "id": "ff451193",
   "metadata": {
    "execution": {
     "iopub.execute_input": "2025-05-16T15:18:43.857474Z",
     "iopub.status.busy": "2025-05-16T15:18:43.857039Z",
     "iopub.status.idle": "2025-05-16T15:18:43.897743Z",
     "shell.execute_reply": "2025-05-16T15:18:43.896292Z"
    },
    "papermill": {
     "duration": 0.047145,
     "end_time": "2025-05-16T15:18:43.900454",
     "exception": false,
     "start_time": "2025-05-16T15:18:43.853309",
     "status": "completed"
    },
    "tags": []
   },
   "outputs": [],
   "source": [
    "# Final prediction\n",
    "test_data['Survived'] = abs(model_pipeline.predict(test_data).round()).astype('int64')\n",
    "\n",
    "# Submission\n",
    "\n",
    "final_submission = test_data[['PassengerId','Survived']]\n",
    "final_submission.to_csv('submission.csv', index=False)"
   ]
  }
 ],
 "metadata": {
  "kaggle": {
   "accelerator": "none",
   "dataSources": [
    {
     "databundleVersionId": 26502,
     "sourceId": 3136,
     "sourceType": "competition"
    }
   ],
   "dockerImageVersionId": 31012,
   "isGpuEnabled": false,
   "isInternetEnabled": false,
   "language": "python",
   "sourceType": "notebook"
  },
  "kernelspec": {
   "display_name": "Python 3",
   "language": "python",
   "name": "python3"
  },
  "language_info": {
   "codemirror_mode": {
    "name": "ipython",
    "version": 3
   },
   "file_extension": ".py",
   "mimetype": "text/x-python",
   "name": "python",
   "nbconvert_exporter": "python",
   "pygments_lexer": "ipython3",
   "version": "3.11.11"
  },
  "papermill": {
   "default_parameters": {},
   "duration": 15.648586,
   "end_time": "2025-05-16T15:18:44.828979",
   "environment_variables": {},
   "exception": null,
   "input_path": "__notebook__.ipynb",
   "output_path": "__notebook__.ipynb",
   "parameters": {},
   "start_time": "2025-05-16T15:18:29.180393",
   "version": "2.6.0"
  }
 },
 "nbformat": 4,
 "nbformat_minor": 5
}
