{
 "cells": [
  {
   "cell_type": "code",
   "execution_count": 1,
   "id": "0913124c",
   "metadata": {
    "_cell_guid": "b1076dfc-b9ad-4769-8c92-a6c4dae69d19",
    "_uuid": "8f2839f25d086af736a60e9eeb907d3b93b6e0e5",
    "execution": {
     "iopub.execute_input": "2025-05-08T16:25:33.348335Z",
     "iopub.status.busy": "2025-05-08T16:25:33.347944Z",
     "iopub.status.idle": "2025-05-08T16:25:37.740286Z",
     "shell.execute_reply": "2025-05-08T16:25:37.739074Z"
    },
    "papermill": {
     "duration": 4.401153,
     "end_time": "2025-05-08T16:25:37.743620",
     "exception": false,
     "start_time": "2025-05-08T16:25:33.342467",
     "status": "completed"
    },
    "tags": []
   },
   "outputs": [
    {
     "name": "stdout",
     "output_type": "stream",
     "text": [
      "/kaggle/input/titanic/train.csv\n",
      "/kaggle/input/titanic/test.csv\n",
      "/kaggle/input/titanic/gender_submission.csv\n",
      "Setup complete\n"
     ]
    }
   ],
   "source": [
    "import numpy as np # linear algebra\n",
    "import pandas as pd # data processing, CSV file I/O (e.g. pd.read_csv)\n",
    "\n",
    "from sklearn.model_selection import train_test_split\n",
    "from sklearn.metrics import mean_absolute_error\n",
    "from sklearn.tree import DecisionTreeRegressor\n",
    "\n",
    "import os\n",
    "for dirname, _, filenames in os.walk('/kaggle/input'):\n",
    "    for filename in filenames:\n",
    "        print(os.path.join(dirname, filename))\n",
    "\n",
    "print(\"Setup complete\")"
   ]
  },
  {
   "cell_type": "code",
   "execution_count": 2,
   "id": "27d2ae71",
   "metadata": {
    "execution": {
     "iopub.execute_input": "2025-05-08T16:25:37.753901Z",
     "iopub.status.busy": "2025-05-08T16:25:37.753242Z",
     "iopub.status.idle": "2025-05-08T16:25:37.831148Z",
     "shell.execute_reply": "2025-05-08T16:25:37.829672Z"
    },
    "papermill": {
     "duration": 0.086201,
     "end_time": "2025-05-08T16:25:37.833663",
     "exception": false,
     "start_time": "2025-05-08T16:25:37.747462",
     "status": "completed"
    },
    "tags": []
   },
   "outputs": [
    {
     "data": {
      "text/html": [
       "<div>\n",
       "<style scoped>\n",
       "    .dataframe tbody tr th:only-of-type {\n",
       "        vertical-align: middle;\n",
       "    }\n",
       "\n",
       "    .dataframe tbody tr th {\n",
       "        vertical-align: top;\n",
       "    }\n",
       "\n",
       "    .dataframe thead th {\n",
       "        text-align: right;\n",
       "    }\n",
       "</style>\n",
       "<table border=\"1\" class=\"dataframe\">\n",
       "  <thead>\n",
       "    <tr style=\"text-align: right;\">\n",
       "      <th></th>\n",
       "      <th>PassengerId</th>\n",
       "      <th>Survived</th>\n",
       "      <th>Pclass</th>\n",
       "      <th>Name</th>\n",
       "      <th>Sex</th>\n",
       "      <th>Age</th>\n",
       "      <th>SibSp</th>\n",
       "      <th>Parch</th>\n",
       "      <th>Ticket</th>\n",
       "      <th>Fare</th>\n",
       "      <th>Cabin</th>\n",
       "      <th>Embarked</th>\n",
       "    </tr>\n",
       "  </thead>\n",
       "  <tbody>\n",
       "    <tr>\n",
       "      <th>0</th>\n",
       "      <td>1</td>\n",
       "      <td>0</td>\n",
       "      <td>3</td>\n",
       "      <td>Braund, Mr. Owen Harris</td>\n",
       "      <td>male</td>\n",
       "      <td>22.0</td>\n",
       "      <td>1</td>\n",
       "      <td>0</td>\n",
       "      <td>A/5 21171</td>\n",
       "      <td>7.2500</td>\n",
       "      <td>Unknown</td>\n",
       "      <td>S</td>\n",
       "    </tr>\n",
       "    <tr>\n",
       "      <th>1</th>\n",
       "      <td>2</td>\n",
       "      <td>1</td>\n",
       "      <td>1</td>\n",
       "      <td>Cumings, Mrs. John Bradley (Florence Briggs Th...</td>\n",
       "      <td>female</td>\n",
       "      <td>38.0</td>\n",
       "      <td>1</td>\n",
       "      <td>0</td>\n",
       "      <td>PC 17599</td>\n",
       "      <td>71.2833</td>\n",
       "      <td>C85</td>\n",
       "      <td>C</td>\n",
       "    </tr>\n",
       "    <tr>\n",
       "      <th>2</th>\n",
       "      <td>3</td>\n",
       "      <td>1</td>\n",
       "      <td>3</td>\n",
       "      <td>Heikkinen, Miss. Laina</td>\n",
       "      <td>female</td>\n",
       "      <td>26.0</td>\n",
       "      <td>0</td>\n",
       "      <td>0</td>\n",
       "      <td>STON/O2. 3101282</td>\n",
       "      <td>7.9250</td>\n",
       "      <td>Unknown</td>\n",
       "      <td>S</td>\n",
       "    </tr>\n",
       "    <tr>\n",
       "      <th>3</th>\n",
       "      <td>4</td>\n",
       "      <td>1</td>\n",
       "      <td>1</td>\n",
       "      <td>Futrelle, Mrs. Jacques Heath (Lily May Peel)</td>\n",
       "      <td>female</td>\n",
       "      <td>35.0</td>\n",
       "      <td>1</td>\n",
       "      <td>0</td>\n",
       "      <td>113803</td>\n",
       "      <td>53.1000</td>\n",
       "      <td>C123</td>\n",
       "      <td>S</td>\n",
       "    </tr>\n",
       "    <tr>\n",
       "      <th>4</th>\n",
       "      <td>5</td>\n",
       "      <td>0</td>\n",
       "      <td>3</td>\n",
       "      <td>Allen, Mr. William Henry</td>\n",
       "      <td>male</td>\n",
       "      <td>35.0</td>\n",
       "      <td>0</td>\n",
       "      <td>0</td>\n",
       "      <td>373450</td>\n",
       "      <td>8.0500</td>\n",
       "      <td>Unknown</td>\n",
       "      <td>S</td>\n",
       "    </tr>\n",
       "  </tbody>\n",
       "</table>\n",
       "</div>"
      ],
      "text/plain": [
       "   PassengerId  Survived  Pclass  \\\n",
       "0            1         0       3   \n",
       "1            2         1       1   \n",
       "2            3         1       3   \n",
       "3            4         1       1   \n",
       "4            5         0       3   \n",
       "\n",
       "                                                Name     Sex   Age  SibSp  \\\n",
       "0                            Braund, Mr. Owen Harris    male  22.0      1   \n",
       "1  Cumings, Mrs. John Bradley (Florence Briggs Th...  female  38.0      1   \n",
       "2                             Heikkinen, Miss. Laina  female  26.0      0   \n",
       "3       Futrelle, Mrs. Jacques Heath (Lily May Peel)  female  35.0      1   \n",
       "4                           Allen, Mr. William Henry    male  35.0      0   \n",
       "\n",
       "   Parch            Ticket     Fare    Cabin Embarked  \n",
       "0      0         A/5 21171   7.2500  Unknown        S  \n",
       "1      0          PC 17599  71.2833      C85        C  \n",
       "2      0  STON/O2. 3101282   7.9250  Unknown        S  \n",
       "3      0            113803  53.1000     C123        S  \n",
       "4      0            373450   8.0500  Unknown        S  "
      ]
     },
     "execution_count": 2,
     "metadata": {},
     "output_type": "execute_result"
    }
   ],
   "source": [
    "train_data = pd.read_csv(\"/kaggle/input/titanic/train.csv\")\n",
    "test_data = pd.read_csv(\"/kaggle/input/titanic/test.csv\")\n",
    "\n",
    "# Using average age where age is unknown\n",
    "train_data.Age = train_data.Age.fillna(train_data.Age.mean())\n",
    "test_data.Age = test_data.Age.fillna(test_data.Age.mean())\n",
    "\n",
    "# Dropping Unknown embarkation data as test data contains no unknown embarkations\n",
    "# not including this step for now as it removes half the data\n",
    "# train_data = test_data.loc[train_data.Embarked.notnull()]\n",
    "\n",
    "# All other NA data filled as 'UTnknown'\n",
    "train_data = train_data.fillna(\"Unknown\")\n",
    "test_data = test_data.fillna(\"Unknown\")\n",
    "\n",
    "train_data.head()"
   ]
  },
  {
   "cell_type": "code",
   "execution_count": 3,
   "id": "fa762de8",
   "metadata": {
    "execution": {
     "iopub.execute_input": "2025-05-08T16:25:37.842143Z",
     "iopub.status.busy": "2025-05-08T16:25:37.840828Z",
     "iopub.status.idle": "2025-05-08T16:25:37.849902Z",
     "shell.execute_reply": "2025-05-08T16:25:37.848737Z"
    },
    "papermill": {
     "duration": 0.014749,
     "end_time": "2025-05-08T16:25:37.851607",
     "exception": false,
     "start_time": "2025-05-08T16:25:37.836858",
     "status": "completed"
    },
    "tags": []
   },
   "outputs": [
    {
     "data": {
      "text/plain": [
       "PassengerId      int64\n",
       "Survived         int64\n",
       "Pclass           int64\n",
       "Name            object\n",
       "Sex             object\n",
       "Age            float64\n",
       "SibSp            int64\n",
       "Parch            int64\n",
       "Ticket          object\n",
       "Fare           float64\n",
       "Cabin           object\n",
       "Embarked        object\n",
       "dtype: object"
      ]
     },
     "execution_count": 3,
     "metadata": {},
     "output_type": "execute_result"
    }
   ],
   "source": [
    "train_data.dtypes\n",
    "\n",
    "# object types that we want to use as a feature must be converted to numerical"
   ]
  },
  {
   "cell_type": "code",
   "execution_count": 4,
   "id": "bedba966",
   "metadata": {
    "execution": {
     "iopub.execute_input": "2025-05-08T16:25:37.860191Z",
     "iopub.status.busy": "2025-05-08T16:25:37.859430Z",
     "iopub.status.idle": "2025-05-08T16:25:37.902078Z",
     "shell.execute_reply": "2025-05-08T16:25:37.900748Z"
    },
    "papermill": {
     "duration": 0.049135,
     "end_time": "2025-05-08T16:25:37.904189",
     "exception": false,
     "start_time": "2025-05-08T16:25:37.855054",
     "status": "completed"
    },
    "tags": []
   },
   "outputs": [
    {
     "data": {
      "text/html": [
       "<div>\n",
       "<style scoped>\n",
       "    .dataframe tbody tr th:only-of-type {\n",
       "        vertical-align: middle;\n",
       "    }\n",
       "\n",
       "    .dataframe tbody tr th {\n",
       "        vertical-align: top;\n",
       "    }\n",
       "\n",
       "    .dataframe thead th {\n",
       "        text-align: right;\n",
       "    }\n",
       "</style>\n",
       "<table border=\"1\" class=\"dataframe\">\n",
       "  <thead>\n",
       "    <tr style=\"text-align: right;\">\n",
       "      <th></th>\n",
       "      <th>Pclass</th>\n",
       "      <th>Age</th>\n",
       "      <th>SibSp</th>\n",
       "      <th>Parch</th>\n",
       "      <th>Sex_female</th>\n",
       "      <th>Sex_male</th>\n",
       "      <th>Embarked_C</th>\n",
       "      <th>Embarked_Q</th>\n",
       "      <th>Embarked_S</th>\n",
       "      <th>Embarked_Unknown</th>\n",
       "    </tr>\n",
       "  </thead>\n",
       "  <tbody>\n",
       "    <tr>\n",
       "      <th>0</th>\n",
       "      <td>3</td>\n",
       "      <td>34.5</td>\n",
       "      <td>0</td>\n",
       "      <td>0</td>\n",
       "      <td>False</td>\n",
       "      <td>True</td>\n",
       "      <td>False</td>\n",
       "      <td>True</td>\n",
       "      <td>False</td>\n",
       "      <td>0</td>\n",
       "    </tr>\n",
       "    <tr>\n",
       "      <th>1</th>\n",
       "      <td>3</td>\n",
       "      <td>47.0</td>\n",
       "      <td>1</td>\n",
       "      <td>0</td>\n",
       "      <td>True</td>\n",
       "      <td>False</td>\n",
       "      <td>False</td>\n",
       "      <td>False</td>\n",
       "      <td>True</td>\n",
       "      <td>0</td>\n",
       "    </tr>\n",
       "    <tr>\n",
       "      <th>2</th>\n",
       "      <td>2</td>\n",
       "      <td>62.0</td>\n",
       "      <td>0</td>\n",
       "      <td>0</td>\n",
       "      <td>False</td>\n",
       "      <td>True</td>\n",
       "      <td>False</td>\n",
       "      <td>True</td>\n",
       "      <td>False</td>\n",
       "      <td>0</td>\n",
       "    </tr>\n",
       "    <tr>\n",
       "      <th>3</th>\n",
       "      <td>3</td>\n",
       "      <td>27.0</td>\n",
       "      <td>0</td>\n",
       "      <td>0</td>\n",
       "      <td>False</td>\n",
       "      <td>True</td>\n",
       "      <td>False</td>\n",
       "      <td>False</td>\n",
       "      <td>True</td>\n",
       "      <td>0</td>\n",
       "    </tr>\n",
       "    <tr>\n",
       "      <th>4</th>\n",
       "      <td>3</td>\n",
       "      <td>22.0</td>\n",
       "      <td>1</td>\n",
       "      <td>1</td>\n",
       "      <td>True</td>\n",
       "      <td>False</td>\n",
       "      <td>False</td>\n",
       "      <td>False</td>\n",
       "      <td>True</td>\n",
       "      <td>0</td>\n",
       "    </tr>\n",
       "  </tbody>\n",
       "</table>\n",
       "</div>"
      ],
      "text/plain": [
       "   Pclass   Age  SibSp  Parch  Sex_female  Sex_male  Embarked_C  Embarked_Q  \\\n",
       "0       3  34.5      0      0       False      True       False        True   \n",
       "1       3  47.0      1      0        True     False       False       False   \n",
       "2       2  62.0      0      0       False      True       False        True   \n",
       "3       3  27.0      0      0       False      True       False       False   \n",
       "4       3  22.0      1      1        True     False       False       False   \n",
       "\n",
       "   Embarked_S  Embarked_Unknown  \n",
       "0       False                 0  \n",
       "1        True                 0  \n",
       "2       False                 0  \n",
       "3        True                 0  \n",
       "4        True                 0  "
      ]
     },
     "execution_count": 4,
     "metadata": {},
     "output_type": "execute_result"
    }
   ],
   "source": [
    "# Set variables\n",
    "y = train_data.Survived   # variable to predict\n",
    "titanic_features = ['Pclass','Sex','Age','SibSp','Parch','Embarked']\n",
    "\n",
    "# Convert features with categorical data to numerical\n",
    "X = pd.get_dummies(train_data[titanic_features])\n",
    "test_X = pd.get_dummies(test_data[titanic_features])\n",
    "\n",
    "#including Embarked Unknown column to allow X and test_X to match\n",
    "test_X['Embarked_Unknown'] = 0\n",
    "\n",
    "# model validation split\n",
    "train_X, val_X, train_y, val_y = train_test_split(X, y, random_state=1)\n",
    "\n",
    "test_X.head()"
   ]
  },
  {
   "cell_type": "code",
   "execution_count": 5,
   "id": "781e87d8",
   "metadata": {
    "execution": {
     "iopub.execute_input": "2025-05-08T16:25:37.913975Z",
     "iopub.status.busy": "2025-05-08T16:25:37.912735Z",
     "iopub.status.idle": "2025-05-08T16:25:37.928531Z",
     "shell.execute_reply": "2025-05-08T16:25:37.926494Z"
    },
    "papermill": {
     "duration": 0.022759,
     "end_time": "2025-05-08T16:25:37.930688",
     "exception": false,
     "start_time": "2025-05-08T16:25:37.907929",
     "status": "completed"
    },
    "tags": []
   },
   "outputs": [
    {
     "name": "stdout",
     "output_type": "stream",
     "text": [
      "0.26211607834462325\n"
     ]
    }
   ],
   "source": [
    "# data fitting\n",
    "titanic_model = DecisionTreeRegressor()\n",
    "titanic_model.fit(train_X, train_y)\n",
    "\n",
    "# predicting\n",
    "pred_val = titanic_model.predict(val_X)\n",
    "\n",
    "# mean absolute error\n",
    "mae = mean_absolute_error(val_y, pred_val)\n",
    "print(mae)"
   ]
  },
  {
   "cell_type": "code",
   "execution_count": 6,
   "id": "096df36c",
   "metadata": {
    "execution": {
     "iopub.execute_input": "2025-05-08T16:25:37.941450Z",
     "iopub.status.busy": "2025-05-08T16:25:37.940133Z",
     "iopub.status.idle": "2025-05-08T16:25:37.946983Z",
     "shell.execute_reply": "2025-05-08T16:25:37.945864Z"
    },
    "papermill": {
     "duration": 0.014353,
     "end_time": "2025-05-08T16:25:37.948955",
     "exception": false,
     "start_time": "2025-05-08T16:25:37.934602",
     "status": "completed"
    },
    "tags": []
   },
   "outputs": [],
   "source": [
    "# Deciding leaf nodes (over vs underfitting exercise)\n",
    "\n",
    "def get_mae(max_leaf_nodes, train_X, val_X, train_y, val_y):\n",
    "    titanic_model = DecisionTreeRegressor(max_leaf_nodes = max_leaf_nodes, random_state=1)\n",
    "    titanic_model.fit(train_X, train_y)\n",
    "    pred = titanic_model.predict(val_X)\n",
    "    leaf_mae = mean_absolute_error(val_y, pred)\n",
    "    return(leaf_mae)"
   ]
  },
  {
   "cell_type": "code",
   "execution_count": 7,
   "id": "5020c847",
   "metadata": {
    "execution": {
     "iopub.execute_input": "2025-05-08T16:25:37.960064Z",
     "iopub.status.busy": "2025-05-08T16:25:37.959667Z",
     "iopub.status.idle": "2025-05-08T16:25:38.001816Z",
     "shell.execute_reply": "2025-05-08T16:25:38.000510Z"
    },
    "papermill": {
     "duration": 0.051364,
     "end_time": "2025-05-08T16:25:38.003771",
     "exception": false,
     "start_time": "2025-05-08T16:25:37.952407",
     "status": "completed"
    },
    "tags": []
   },
   "outputs": [
    {
     "name": "stdout",
     "output_type": "stream",
     "text": [
      "Leaf nodes: 5   \t MAE: 0.2920\n",
      "Leaf nodes: 10   \t MAE: 0.2679\n",
      "Leaf nodes: 20   \t MAE: 0.2586\n",
      "Leaf nodes: 30   \t MAE: 0.2551\n",
      "Leaf nodes: 40   \t MAE: 0.2421\n",
      "Leaf nodes: 50   \t MAE: 0.2528\n"
     ]
    }
   ],
   "source": [
    "# MAE values for various leaf nodes\n",
    "\n",
    "leaf_nodes = [5, 10, 20, 30, 40, 50]\n",
    "\n",
    "for max_leaf_nodes in leaf_nodes:\n",
    "    my_mae = get_mae(max_leaf_nodes, train_X, val_X, train_y, val_y)\n",
    "    print(f\"Leaf nodes: {max_leaf_nodes}   \\t MAE: {my_mae:.4f}\")\n",
    "\n",
    "best_nodes = 40"
   ]
  },
  {
   "cell_type": "code",
   "execution_count": 8,
   "id": "45e55967",
   "metadata": {
    "execution": {
     "iopub.execute_input": "2025-05-08T16:25:38.012412Z",
     "iopub.status.busy": "2025-05-08T16:25:38.012002Z",
     "iopub.status.idle": "2025-05-08T16:25:38.039524Z",
     "shell.execute_reply": "2025-05-08T16:25:38.038314Z"
    },
    "papermill": {
     "duration": 0.034245,
     "end_time": "2025-05-08T16:25:38.041561",
     "exception": false,
     "start_time": "2025-05-08T16:25:38.007316",
     "status": "completed"
    },
    "tags": []
   },
   "outputs": [
    {
     "data": {
      "text/html": [
       "<div>\n",
       "<style scoped>\n",
       "    .dataframe tbody tr th:only-of-type {\n",
       "        vertical-align: middle;\n",
       "    }\n",
       "\n",
       "    .dataframe tbody tr th {\n",
       "        vertical-align: top;\n",
       "    }\n",
       "\n",
       "    .dataframe thead th {\n",
       "        text-align: right;\n",
       "    }\n",
       "</style>\n",
       "<table border=\"1\" class=\"dataframe\">\n",
       "  <thead>\n",
       "    <tr style=\"text-align: right;\">\n",
       "      <th></th>\n",
       "      <th>PassengerId</th>\n",
       "      <th>Pclass</th>\n",
       "      <th>Name</th>\n",
       "      <th>Sex</th>\n",
       "      <th>Age</th>\n",
       "      <th>SibSp</th>\n",
       "      <th>Parch</th>\n",
       "      <th>Ticket</th>\n",
       "      <th>Fare</th>\n",
       "      <th>Cabin</th>\n",
       "      <th>Embarked</th>\n",
       "      <th>Survived</th>\n",
       "    </tr>\n",
       "  </thead>\n",
       "  <tbody>\n",
       "    <tr>\n",
       "      <th>0</th>\n",
       "      <td>892</td>\n",
       "      <td>3</td>\n",
       "      <td>Kelly, Mr. James</td>\n",
       "      <td>male</td>\n",
       "      <td>34.5</td>\n",
       "      <td>0</td>\n",
       "      <td>0</td>\n",
       "      <td>330911</td>\n",
       "      <td>7.8292</td>\n",
       "      <td>Unknown</td>\n",
       "      <td>Q</td>\n",
       "      <td>0.0</td>\n",
       "    </tr>\n",
       "    <tr>\n",
       "      <th>1</th>\n",
       "      <td>893</td>\n",
       "      <td>3</td>\n",
       "      <td>Wilkes, Mrs. James (Ellen Needs)</td>\n",
       "      <td>female</td>\n",
       "      <td>47.0</td>\n",
       "      <td>1</td>\n",
       "      <td>0</td>\n",
       "      <td>363272</td>\n",
       "      <td>7.0</td>\n",
       "      <td>Unknown</td>\n",
       "      <td>S</td>\n",
       "      <td>0.0</td>\n",
       "    </tr>\n",
       "    <tr>\n",
       "      <th>2</th>\n",
       "      <td>894</td>\n",
       "      <td>2</td>\n",
       "      <td>Myles, Mr. Thomas Francis</td>\n",
       "      <td>male</td>\n",
       "      <td>62.0</td>\n",
       "      <td>0</td>\n",
       "      <td>0</td>\n",
       "      <td>240276</td>\n",
       "      <td>9.6875</td>\n",
       "      <td>Unknown</td>\n",
       "      <td>Q</td>\n",
       "      <td>0.0</td>\n",
       "    </tr>\n",
       "    <tr>\n",
       "      <th>3</th>\n",
       "      <td>895</td>\n",
       "      <td>3</td>\n",
       "      <td>Wirz, Mr. Albert</td>\n",
       "      <td>male</td>\n",
       "      <td>27.0</td>\n",
       "      <td>0</td>\n",
       "      <td>0</td>\n",
       "      <td>315154</td>\n",
       "      <td>8.6625</td>\n",
       "      <td>Unknown</td>\n",
       "      <td>S</td>\n",
       "      <td>0.0</td>\n",
       "    </tr>\n",
       "    <tr>\n",
       "      <th>4</th>\n",
       "      <td>896</td>\n",
       "      <td>3</td>\n",
       "      <td>Hirvonen, Mrs. Alexander (Helga E Lindqvist)</td>\n",
       "      <td>female</td>\n",
       "      <td>22.0</td>\n",
       "      <td>1</td>\n",
       "      <td>1</td>\n",
       "      <td>3101298</td>\n",
       "      <td>12.2875</td>\n",
       "      <td>Unknown</td>\n",
       "      <td>S</td>\n",
       "      <td>1.0</td>\n",
       "    </tr>\n",
       "  </tbody>\n",
       "</table>\n",
       "</div>"
      ],
      "text/plain": [
       "   PassengerId  Pclass                                          Name     Sex  \\\n",
       "0          892       3                              Kelly, Mr. James    male   \n",
       "1          893       3              Wilkes, Mrs. James (Ellen Needs)  female   \n",
       "2          894       2                     Myles, Mr. Thomas Francis    male   \n",
       "3          895       3                              Wirz, Mr. Albert    male   \n",
       "4          896       3  Hirvonen, Mrs. Alexander (Helga E Lindqvist)  female   \n",
       "\n",
       "    Age  SibSp  Parch   Ticket     Fare    Cabin Embarked  Survived  \n",
       "0  34.5      0      0   330911   7.8292  Unknown        Q       0.0  \n",
       "1  47.0      1      0   363272      7.0  Unknown        S       0.0  \n",
       "2  62.0      0      0   240276   9.6875  Unknown        Q       0.0  \n",
       "3  27.0      0      0   315154   8.6625  Unknown        S       0.0  \n",
       "4  22.0      1      1  3101298  12.2875  Unknown        S       1.0  "
      ]
     },
     "execution_count": 8,
     "metadata": {},
     "output_type": "execute_result"
    }
   ],
   "source": [
    "# final model with set leaf nodes\n",
    "\n",
    "final_model = DecisionTreeRegressor(max_leaf_nodes = best_nodes, random_state = 1)\n",
    "\n",
    "final_model.fit(X, y)\n",
    "test_data['Survived'] = final_model.predict(test_X).round()\n",
    "\n",
    "test_data.head()"
   ]
  },
  {
   "cell_type": "code",
   "execution_count": 9,
   "id": "9e4fbd34",
   "metadata": {
    "execution": {
     "iopub.execute_input": "2025-05-08T16:25:38.052301Z",
     "iopub.status.busy": "2025-05-08T16:25:38.051968Z",
     "iopub.status.idle": "2025-05-08T16:25:38.066182Z",
     "shell.execute_reply": "2025-05-08T16:25:38.065184Z"
    },
    "papermill": {
     "duration": 0.022221,
     "end_time": "2025-05-08T16:25:38.068260",
     "exception": false,
     "start_time": "2025-05-08T16:25:38.046039",
     "status": "completed"
    },
    "tags": []
   },
   "outputs": [],
   "source": [
    "# Convert to CSV\n",
    "test_data.Survived = test_data.Survived.astype('int64')\n",
    "\n",
    "final_prediction = test_data[['PassengerId','Survived']]\n",
    "final_prediction.to_csv('submission.csv', index=False)"
   ]
  }
 ],
 "metadata": {
  "kaggle": {
   "accelerator": "none",
   "dataSources": [
    {
     "databundleVersionId": 26502,
     "sourceId": 3136,
     "sourceType": "competition"
    }
   ],
   "dockerImageVersionId": 31012,
   "isGpuEnabled": false,
   "isInternetEnabled": false,
   "language": "python",
   "sourceType": "notebook"
  },
  "kernelspec": {
   "display_name": "Python 3",
   "language": "python",
   "name": "python3"
  },
  "language_info": {
   "codemirror_mode": {
    "name": "ipython",
    "version": 3
   },
   "file_extension": ".py",
   "mimetype": "text/x-python",
   "name": "python",
   "nbconvert_exporter": "python",
   "pygments_lexer": "ipython3",
   "version": "3.11.11"
  },
  "papermill": {
   "default_parameters": {},
   "duration": 11.321123,
   "end_time": "2025-05-08T16:25:39.096887",
   "environment_variables": {},
   "exception": null,
   "input_path": "__notebook__.ipynb",
   "output_path": "__notebook__.ipynb",
   "parameters": {},
   "start_time": "2025-05-08T16:25:27.775764",
   "version": "2.6.0"
  }
 },
 "nbformat": 4,
 "nbformat_minor": 5
}
